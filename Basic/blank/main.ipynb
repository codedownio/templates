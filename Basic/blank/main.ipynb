{
    "nbformat_minor": 2,
    "metadata": {
        "codedown_frontmatter": {
            "styles": [],
            "comments": [],
            "annotations": {},
            "options": {}
        },
        "kernel_info": {
            "display_name": "Python 3.8.13",
            "name": "python38"
        },
        "language_info": {
            "file_extension": ".ipynb",
            "name": "python38",
            "codemirror_mode": "python",
            "version": "5.0"
        }
    },
    "cells": [
        {
            "cell_type": "markdown",
            "metadata": {},
            "source": [
                ""
            ]
        }
    ],
    "nbformat": 4
}
