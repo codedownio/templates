{
    "nbformat_minor": 2,
    "metadata": {
        "codedown_frontmatter": {
            "styles": [],
            "comments": [],
            "annotations": {},
            "options": {}
        },
        "kernel_info": {
            "display_name": "Python 3.8.13",
            "name": "python38"
        },
        "language_info": {
            "file_extension": ".ipynb",
            "name": "python38",
            "codemirror_mode": "python",
            "version": "5.0"
        }
    },
    "cells": [
        {
            "cell_type": "markdown",
            "metadata": {},
            "source": [
                "# Python\n",
                ""
            ]
        },
        {
            "cell_type": "code",
            "metadata": {
                "codedown_end_line": "```",
                "codedown_finish_time": "2022-10-27T16:49:21.050907014Z",
                "codedown_start_line": "```{python}",
                "codedown_kernel": "python38",
                "codedown_start_time": "2022-10-27T16:49:20.986392429Z"
            },
            "execution_count": 2,
            "source": [
                "print(\"HI\")"
            ],
            "outputs": [
                {
                    "name": "stdout",
                    "output_type": "stream",
                    "text": "HI\n"
                }
            ]
        },
        {
            "cell_type": "markdown",
            "metadata": {},
            "source": [
                ""
            ]
        }
    ],
    "nbformat": 4
}