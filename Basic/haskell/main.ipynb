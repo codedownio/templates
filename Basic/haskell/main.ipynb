{
    "nbformat_minor": 2,
    "metadata": {
        "codedown_frontmatter": {
            "styles": [],
            "comments": [],
            "annotations": {},
            "options": {}
        },
        "kernel_info": {
            "display_name": "Haskell (GHC 9.0.2)",
            "name": "haskell-ghc902"
        },
        "language_info": {
            "file_extension": ".ipynb",
            "name": "haskell-ghc902",
            "codemirror_mode": "haskell",
            "version": "5.0"
        }
    },
    "cells": [
        {
            "cell_type": "markdown",
            "metadata": {},
            "source": [
                "# Haskell\n",
                ""
            ]
        },
        {
            "cell_type": "code",
            "metadata": {
                "codedown_end_line": "```",
                "codedown_finish_time": "2022-10-27T16:53:03.456301013Z",
                "codedown_start_line": "```{haskell}",
                "codedown_kernel": "haskell-ghc902",
                "codedown_start_time": "2022-10-27T16:53:03.152154027Z"
            },
            "execution_count": 1,
            "source": [
                "putStrLn \"HI\""
            ],
            "outputs": [
                {
                    "output_type": "display_data",
                    "metadata": {},
                    "data": {
                        "text/plain": "HI"
                    }
                }
            ]
        },
        {
            "cell_type": "markdown",
            "metadata": {},
            "source": [
                ""
            ]
        }
    ],
    "nbformat": 4
}